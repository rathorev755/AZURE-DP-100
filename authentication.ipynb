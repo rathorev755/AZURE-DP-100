{
  "cells": [
    {
      "cell_type": "code",
      "source": [
        "  from azure.identity import ClientSecretCredential\n",
        "  from azure.ai.ml import MLClient\n",
        "\n",
        "  credential = ClientSecretCredential(\n",
        "      tenant_id=\"your-tenant-id\",\n",
        "      client_id=\"your-client-id\",\n",
        "      client_secret=\"your-client-secret\"\n",
        "  )\n",
        "\n",
        "  ml_client = MLClient(\n",
        "      credential,\n",
        "      subscription_id=\"your-sub-id\",\n",
        "      resource_group=\"your-rg-name\",\n",
        "      workspace_name=\"ml-example\"\n",
        "  )\n"
      ],
      "outputs": [],
      "execution_count": null,
      "metadata": {}
    },
    {
      "cell_type": "code",
      "source": [
        "from azure.identity import DefaultAzureCredential,ClientSecretCredential\n",
        "from azure.ai.ml import MLClient\n",
        "from azure.ai.ml.entities import AzureBlobDatastore, AzureDataLakeGen2Datastore\n",
        "from azureml.core.authentication import ServicePrincipalAuthentication\n",
        "\n",
        "# Set your Azure ML workspace details\n",
        "subscription_id = \"fdec3bff-d6e2-4cf8-87b9-8439c441c1b7\"\n",
        "resource_group = \"dp100\"\n",
        "workspace_name = \"dp100demo\"\n",
        "\n",
        "# Authenticate\n",
        "ml_client = MLClient(\n",
        "    DefaultAzureCredential(),\n",
        "    subscription_id,\n",
        "    resource_group,\n",
        "    workspace_name,\n",
        ")"
      ],
      "outputs": [],
      "execution_count": null,
      "metadata": {}
    },
    {
      "cell_type": "code",
      "source": [
        "from azure.identity import InteractiveBrowserCredential\n",
        "from azure.ai.ml import MLClient\n",
        "\n",
        "credential = InteractiveBrowserCredential()\n",
        "ml_client = MLClient(credential, subscription_id, resource_group, workspace_name)\n"
      ],
      "outputs": [],
      "execution_count": null,
      "metadata": {}
    },
    {
      "cell_type": "code",
      "source": [
        "from azure.identity import AzureCliCredential\n",
        "from azure.ai.ml import MLClient\n",
        "\n",
        "credential = AzureCliCredential()\n",
        "ml_client = MLClient(credential, subscription_id, resource_group, workspace_name)\n"
      ],
      "outputs": [],
      "execution_count": null,
      "metadata": {}
    },
    {
      "cell_type": "code",
      "source": [
        "from azure.identity import ManagedIdentityCredential\n",
        "from azure.ai.ml import MLClient\n",
        "\n",
        "credential = ManagedIdentityCredential()\n",
        "ml_client = MLClient(credential, subscription_id, resource_group, workspace_name)\n"
      ],
      "outputs": [],
      "execution_count": null,
      "metadata": {}
    },
    {
      "cell_type": "code",
      "source": [],
      "outputs": [],
      "execution_count": null,
      "metadata": {}
    }
  ],
  "metadata": {
    "kernelspec": {
      "name": "python310-sdkv2",
      "language": "python",
      "display_name": "Python 3.10 - SDK v2"
    },
    "language_info": {
      "name": "python",
      "version": "3.10.16",
      "mimetype": "text/x-python",
      "codemirror_mode": {
        "name": "ipython",
        "version": 3
      },
      "pygments_lexer": "ipython3",
      "nbconvert_exporter": "python",
      "file_extension": ".py"
    },
    "microsoft": {
      "ms_spell_check": {
        "ms_spell_check_language": "en"
      }
    },
    "kernel_info": {
      "name": "python310-sdkv2"
    },
    "nteract": {
      "version": "nteract-front-end@1.0.0"
    }
  },
  "nbformat": 4,
  "nbformat_minor": 2
}